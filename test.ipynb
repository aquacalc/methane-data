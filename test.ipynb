{
 "cells": [
  {
   "cell_type": "code",
   "execution_count": 1,
   "metadata": {},
   "outputs": [
    {
     "name": "stdout",
     "output_type": "stream",
     "text": [
      "<class 'pandas.core.frame.DataFrame'>\n",
      "RangeIndex: 1097796 entries, 0 to 1097795\n",
      "Data columns (total 2 columns):\n",
      " #   Column                     Non-Null Count    Dtype \n",
      "---  ------                     --------------    ----- \n",
      " 0   Iso8601Time                1097796 non-null  object\n",
      " 1   3579.feed_161522.tvoc_ch0  1097796 non-null  int64 \n",
      "dtypes: int64(1), object(1)\n",
      "memory usage: 16.8+ MB\n",
      "<class 'pandas.core.series.Series'>\n",
      "RangeIndex: 1097796 entries, 0 to 1097795\n",
      "Series name: Iso8601Time\n",
      "Non-Null Count    Dtype \n",
      "--------------    ----- \n",
      "1097796 non-null  object\n",
      "dtypes: object(1)\n",
      "memory usage: 8.4+ MB\n"
     ]
    }
   ],
   "source": [
    "\n",
    "import pandas as pd;\n",
    "import datetime as dt;\n",
    "\n",
    "# https://docs.dataprep.ai/installation.html\n",
    "# from dataprep.clean import clean_date\n",
    "# clean_date(df, 'date')\n",
    "\n",
    "# mydf = pd.read_csv('VOC_tiny.csv')\n",
    "mydf = pd.read_csv('VOC_snippet.csv')\n",
    "\n",
    "type(mydf)\n",
    "\n",
    "mydf.info()\n",
    "mydf['Iso8601Time'].info()\n",
    "\n",
    "# len(mydf)"
   ]
  },
  {
   "cell_type": "code",
   "execution_count": 2,
   "metadata": {},
   "outputs": [
    {
     "name": "stdout",
     "output_type": "stream",
     "text": [
      "2.2.1\n"
     ]
    }
   ],
   "source": [
    "print(pd.__version__)"
   ]
  },
  {
   "cell_type": "code",
   "execution_count": 158,
   "metadata": {},
   "outputs": [
    {
     "data": {
      "text/plain": [
       "922920    2023-11-05T01:59:55.194000-04:00\n",
       "922921    2023-11-05T01:59:56.195000-04:00\n",
       "922922    2023-11-05T01:59:57.194000-04:00\n",
       "922923    2023-11-05T01:59:58.194000-04:00\n",
       "922924    2023-11-05T01:59:59.197000-04:00\n",
       "922925    2023-11-05T01:00:00.194000-05:00\n",
       "922926    2023-11-05T01:00:01.197000-05:00\n",
       "922927    2023-11-05T01:00:02.194000-05:00\n",
       "Name: Iso8601Time, dtype: object"
      ]
     },
     "execution_count": 158,
     "metadata": {},
     "output_type": "execute_result"
    }
   ],
   "source": [
    "# NB: changed at 02:00:00 Local\n",
    "mydf['Iso8601Time'][922920:922928]"
   ]
  },
  {
   "cell_type": "code",
   "execution_count": 80,
   "metadata": {},
   "outputs": [
    {
     "name": "stdout",
     "output_type": "stream",
     "text": [
      "y =  <class 'pandas.core.frame.DataFrame'>\n",
      "Iso8601Time                  object\n",
      "3579.feed_161522.tvoc_ch0     int64\n",
      "dtype: object\n"
     ]
    },
    {
     "name": "stderr",
     "output_type": "stream",
     "text": [
      "/var/folders/pr/q674sh7s05q_ymjj752fz9qr0000gn/T/ipykernel_11238/4022199490.py:8: FutureWarning: In a future version of pandas, parsing datetimes with mixed time zones will raise an error unless `utc=True`. Please specify `utc=True` to opt in to the new behaviour and silence this warning. To create a `Series` with mixed offsets and `object` dtype, please use `apply` and `datetime.datetime.strptime`\n",
      "  y = pd.to_datetime(y['Iso8601Time'])\n"
     ]
    },
    {
     "ename": "AttributeError",
     "evalue": "'Series' object has no attribute 'Iso8601Time'",
     "output_type": "error",
     "traceback": [
      "\u001b[0;31m---------------------------------------------------------------------------\u001b[0m",
      "\u001b[0;31mAttributeError\u001b[0m                            Traceback (most recent call last)",
      "\u001b[0;32m/var/folders/pr/q674sh7s05q_ymjj752fz9qr0000gn/T/ipykernel_11238/4022199490.py\u001b[0m in \u001b[0;36m?\u001b[0;34m()\u001b[0m\n\u001b[1;32m      5\u001b[0m \u001b[0mprint\u001b[0m\u001b[0;34m(\u001b[0m\u001b[0;34m'y = '\u001b[0m\u001b[0;34m,\u001b[0m \u001b[0mtype\u001b[0m\u001b[0;34m(\u001b[0m\u001b[0my\u001b[0m\u001b[0;34m)\u001b[0m\u001b[0;34m)\u001b[0m\u001b[0;34m\u001b[0m\u001b[0;34m\u001b[0m\u001b[0m\n\u001b[1;32m      6\u001b[0m \u001b[0mprint\u001b[0m\u001b[0;34m(\u001b[0m\u001b[0my\u001b[0m\u001b[0;34m.\u001b[0m\u001b[0mdtypes\u001b[0m\u001b[0;34m)\u001b[0m\u001b[0;34m\u001b[0m\u001b[0;34m\u001b[0m\u001b[0m\n\u001b[1;32m      7\u001b[0m \u001b[0;31m# https://www.datasciencelearner.com/python-exceptions/attributeerror/attributeerror-dataframe-object-has-no-attribute-to-datetime-solved/\u001b[0m\u001b[0;34m\u001b[0m\u001b[0;34m\u001b[0m\u001b[0m\n\u001b[1;32m      8\u001b[0m \u001b[0my\u001b[0m \u001b[0;34m=\u001b[0m \u001b[0mpd\u001b[0m\u001b[0;34m.\u001b[0m\u001b[0mto_datetime\u001b[0m\u001b[0;34m(\u001b[0m\u001b[0my\u001b[0m\u001b[0;34m[\u001b[0m\u001b[0;34m'Iso8601Time'\u001b[0m\u001b[0;34m]\u001b[0m\u001b[0;34m)\u001b[0m\u001b[0;34m\u001b[0m\u001b[0;34m\u001b[0m\u001b[0m\n\u001b[0;32m----> 9\u001b[0;31m \u001b[0my\u001b[0m\u001b[0;34m.\u001b[0m\u001b[0mIso8601Time\u001b[0m\u001b[0;34m[\u001b[0m\u001b[0;36m0\u001b[0m\u001b[0;34m]\u001b[0m\u001b[0;34m\u001b[0m\u001b[0;34m\u001b[0m\u001b[0m\n\u001b[0m\u001b[1;32m     10\u001b[0m \u001b[0;31m# y.info()\u001b[0m\u001b[0;34m\u001b[0m\u001b[0;34m\u001b[0m\u001b[0m\n\u001b[1;32m     11\u001b[0m \u001b[0;31m# y['Iso8601Time'] = y.to_datetime(y['Iso 8601'])\u001b[0m\u001b[0;34m\u001b[0m\u001b[0;34m\u001b[0m\u001b[0m\n\u001b[1;32m     12\u001b[0m \u001b[0;31m# y\u001b[0m\u001b[0;34m\u001b[0m\u001b[0;34m\u001b[0m\u001b[0m\n",
      "\u001b[0;32m/Library/Frameworks/Python.framework/Versions/3.11/lib/python3.11/site-packages/pandas/core/generic.py\u001b[0m in \u001b[0;36m?\u001b[0;34m(self, name)\u001b[0m\n\u001b[1;32m   6292\u001b[0m             \u001b[0;32mand\u001b[0m \u001b[0mname\u001b[0m \u001b[0;32mnot\u001b[0m \u001b[0;32min\u001b[0m \u001b[0mself\u001b[0m\u001b[0;34m.\u001b[0m\u001b[0m_accessors\u001b[0m\u001b[0;34m\u001b[0m\u001b[0;34m\u001b[0m\u001b[0m\n\u001b[1;32m   6293\u001b[0m             \u001b[0;32mand\u001b[0m \u001b[0mself\u001b[0m\u001b[0;34m.\u001b[0m\u001b[0m_info_axis\u001b[0m\u001b[0;34m.\u001b[0m\u001b[0m_can_hold_identifiers_and_holds_name\u001b[0m\u001b[0;34m(\u001b[0m\u001b[0mname\u001b[0m\u001b[0;34m)\u001b[0m\u001b[0;34m\u001b[0m\u001b[0;34m\u001b[0m\u001b[0m\n\u001b[1;32m   6294\u001b[0m         ):\n\u001b[1;32m   6295\u001b[0m             \u001b[0;32mreturn\u001b[0m \u001b[0mself\u001b[0m\u001b[0;34m[\u001b[0m\u001b[0mname\u001b[0m\u001b[0;34m]\u001b[0m\u001b[0;34m\u001b[0m\u001b[0;34m\u001b[0m\u001b[0m\n\u001b[0;32m-> 6296\u001b[0;31m         \u001b[0;32mreturn\u001b[0m \u001b[0mobject\u001b[0m\u001b[0;34m.\u001b[0m\u001b[0m__getattribute__\u001b[0m\u001b[0;34m(\u001b[0m\u001b[0mself\u001b[0m\u001b[0;34m,\u001b[0m \u001b[0mname\u001b[0m\u001b[0;34m)\u001b[0m\u001b[0;34m\u001b[0m\u001b[0;34m\u001b[0m\u001b[0m\n\u001b[0m",
      "\u001b[0;31mAttributeError\u001b[0m: 'Series' object has no attribute 'Iso8601Time'"
     ]
    }
   ],
   "source": [
    "# x = mydf.loc['922920':'922927', ['Iso8601Time']]\n",
    "# x['Iso8601Time'].tz_localize('CET')\n",
    "# type(mydf['Iso8601Time'][0])\n",
    "y = mydf.loc['922920':'922927']\n",
    "print('y = ', type(y))\n",
    "print(y.dtypes)\n",
    "# https://www.datasciencelearner.com/python-exceptions/attributeerror/attributeerror-dataframe-object-has-no-attribute-to-datetime-solved/\n",
    "pd.to_datetime(y['Iso8601Time'])\n",
    "y.Iso8601Time[0]\n",
    "# y.info()\n",
    "# y['Iso8601Time'] = y.to_datetime(y['Iso 8601'])\n",
    "# y\n",
    "# # # print(type(y))\n",
    "# y.set_index(['Iso8601Time'], inplace=True)\n",
    "# y.index"
   ]
  },
  {
   "cell_type": "code",
   "execution_count": 212,
   "metadata": {},
   "outputs": [
    {
     "name": "stdout",
     "output_type": "stream",
     "text": [
      "<class 'pandas.core.series.Series'>\n",
      "RangeIndex: 1 entries, 922925 to 922925\n",
      "Series name: Iso8601Time\n",
      "Non-Null Count  Dtype \n",
      "--------------  ----- \n",
      "1 non-null      object\n",
      "dtypes: object(1)\n",
      "memory usage: 140.0+ bytes\n"
     ]
    },
    {
     "data": {
      "text/plain": [
       "922925    2023-11-05T01:00:00.194000\n",
       "Name: Iso8601Time, dtype: object"
      ]
     },
     "execution_count": 212,
     "metadata": {},
     "output_type": "execute_result"
    }
   ],
   "source": [
    "# see: https://www.linkedin.com/advice/3/how-can-you-effectively-clean-date-time-data-skills-data-mining-5mtce\n",
    "x = pd.to_datetime(mydf['Iso8601Time'][922925:922926], errors='coerce').dt.strftime('%Y-%m-%dT%H:%M:%S.%f')\n",
    "x.info()\n",
    "x.head(5)"
   ]
  },
  {
   "cell_type": "code",
   "execution_count": 220,
   "metadata": {},
   "outputs": [
    {
     "name": "stdout",
     "output_type": "stream",
     "text": [
      "=========\n",
      "<class 'pandas.core.series.Series'>\n",
      "RangeIndex: 922925 entries, 0 to 922924\n",
      "Series name: Iso8601Time\n",
      "Non-Null Count   Dtype                    \n",
      "--------------   -----                    \n",
      "922925 non-null  datetime64[ns, UTC-04:00]\n",
      "dtypes: datetime64[ns, UTC-04:00](1)\n",
      "memory usage: 7.0 MB\n"
     ]
    }
   ],
   "source": [
    "# type(mydf)\n",
    "# mydf.shape\n",
    "# type(mydf['Iso8601Time'])\n",
    "# print(mydf['Iso8601Time'][0])\n",
    "# pd.to_datetime(mydf['Iso8601Time'][0])\n",
    "# pd.to_datetime(mydf['Iso8601Time'][0]).dt.strftime('%Y-%m-%dT%H:%M:%SZ')\n",
    "# dt.datetime.strptime(mydf['Iso8601Time'][0], \"%Y-%m-%dT%H:%M:%SZ\")\n",
    "\n",
    "\n",
    "# Your ISO date\n",
    "# a_test_iso_date = \"2023-10-25T04:57:47.081000-04:00\"\n",
    "iso_dates = mydf['Iso8601Time'][0:922925]\n",
    "\n",
    "datetime_format = '%Y-%m-%dT%H:%M:%S.%f'\n",
    "\n",
    "# Convert ISO dates to datetime format\n",
    "converted_datetime = pd.to_datetime(iso_dates)\n",
    "\n",
    "# # Format the datetime as per your specified format\n",
    "# formatted_datetime = converted_datetime.strftime(datetime_format)\n",
    "\n",
    "# print(type(iso_dates))\n",
    "# print(type(converted_datetime))\n",
    "print('=========')\n",
    "converted_datetime.info()\n",
    "# converted_datetime.head(3)\n",
    "# print(type(formatted_datetime))\n",
    "# print('=========')\n",
    "\n",
    "# # print(formatted_datetime)\n",
    "# # print(type(converted_datetime))\n",
    "# print(converted_datetime.tz)\n",
    "# timezone = 'America/New_York'\n",
    "# timezone = 'UTC'\n",
    "# # timezone = 'Asia/Shanghai'\n",
    "# # timezone = 'US/Eastern'\n",
    "# print(converted_datetime)\n",
    "# print(converted_datetime.tz_convert(timezone))\n",
    "# print(formatted_datetime)"
   ]
  },
  {
   "cell_type": "code",
   "execution_count": 222,
   "metadata": {},
   "outputs": [
    {
     "name": "stdout",
     "output_type": "stream",
     "text": [
      "<class 'pandas.core.frame.DataFrame'>\n",
      "RangeIndex: 1097796 entries, 0 to 1097795\n",
      "Data columns (total 2 columns):\n",
      " #   Column                     Non-Null Count    Dtype \n",
      "---  ------                     --------------    ----- \n",
      " 0   Iso8601Time                1097796 non-null  object\n",
      " 1   3579.feed_161522.tvoc_ch0  1097796 non-null  int64 \n",
      "dtypes: int64(1), object(1)\n",
      "memory usage: 16.8+ MB\n",
      "<class 'pandas.core.series.Series'>\n",
      "RangeIndex: 1097796 entries, 0 to 1097795\n",
      "Series name: Iso8601Time\n",
      "Non-Null Count    Dtype \n",
      "--------------    ----- \n",
      "1097796 non-null  object\n",
      "dtypes: object(1)\n",
      "memory usage: 8.4+ MB\n",
      "<class 'pandas.core.frame.DataFrame'>\n",
      "RangeIndex: 1097796 entries, 0 to 1097795\n",
      "Data columns (total 3 columns):\n",
      " #   Column                     Non-Null Count    Dtype                    \n",
      "---  ------                     --------------    -----                    \n",
      " 0   Iso8601Time                1097796 non-null  object                   \n",
      " 1   3579.feed_161522.tvoc_ch0  1097796 non-null  int64                    \n",
      " 2   Iso8601Time_2              922925 non-null   datetime64[ns, UTC-04:00]\n",
      "dtypes: datetime64[ns, UTC-04:00](1), int64(1), object(1)\n",
      "memory usage: 25.1+ MB\n",
      "<class 'pandas.core.series.Series'>\n",
      "RangeIndex: 1097796 entries, 0 to 1097795\n",
      "Series name: Iso8601Time\n",
      "Non-Null Count    Dtype \n",
      "--------------    ----- \n",
      "1097796 non-null  object\n",
      "dtypes: object(1)\n",
      "memory usage: 8.4+ MB\n",
      "<class 'pandas.core.series.Series'>\n",
      "RangeIndex: 1097796 entries, 0 to 1097795\n",
      "Series name: Iso8601Time_2\n",
      "Non-Null Count   Dtype                    \n",
      "--------------   -----                    \n",
      "922925 non-null  datetime64[ns, UTC-04:00]\n",
      "dtypes: datetime64[ns, UTC-04:00](1)\n",
      "memory usage: 8.4 MB\n"
     ]
    }
   ],
   "source": [
    "\n",
    "# print(type(converted_datetime))\n",
    "# converted_datetime.dt.month.value_counts()\n",
    "mydf.info()\n",
    "mydf['Iso8601Time'].info()\n",
    "\n",
    "mydf['Iso8601Time_2'] = converted_datetime\n",
    "\n",
    "mydf.info()\n",
    "mydf['Iso8601Time'].info()\n",
    "mydf['Iso8601Time_2'].info()"
   ]
  },
  {
   "cell_type": "code",
   "execution_count": 230,
   "metadata": {},
   "outputs": [
    {
     "ename": "AttributeError",
     "evalue": "'Series' object has no attribute 'set_index'",
     "output_type": "error",
     "traceback": [
      "\u001b[0;31m---------------------------------------------------------------------------\u001b[0m",
      "\u001b[0;31mAttributeError\u001b[0m                            Traceback (most recent call last)",
      "\u001b[0;32m/var/folders/pr/q674sh7s05q_ymjj752fz9qr0000gn/T/ipykernel_6952/1367189788.py\u001b[0m in \u001b[0;36m?\u001b[0;34m()\u001b[0m\n\u001b[1;32m      1\u001b[0m \u001b[0;31m# Set the first column as the index\u001b[0m\u001b[0;34m\u001b[0m\u001b[0;34m\u001b[0m\u001b[0m\n\u001b[0;32m----> 2\u001b[0;31m \u001b[0mmydf\u001b[0m\u001b[0;34m.\u001b[0m\u001b[0mset_index\u001b[0m\u001b[0;34m(\u001b[0m\u001b[0mmydf\u001b[0m\u001b[0;34m[\u001b[0m\u001b[0;34m'Iso8601Time_2'\u001b[0m\u001b[0;34m]\u001b[0m\u001b[0;34m,\u001b[0m \u001b[0minplace\u001b[0m\u001b[0;34m=\u001b[0m\u001b[0;32mTrue\u001b[0m\u001b[0;34m)\u001b[0m\u001b[0;34m\u001b[0m\u001b[0;34m\u001b[0m\u001b[0m\n\u001b[0m\u001b[1;32m      3\u001b[0m \u001b[0;31m# mydf.set_index(mydf.columns[0], inplace=True)\u001b[0m\u001b[0;34m\u001b[0m\u001b[0;34m\u001b[0m\u001b[0m\n\u001b[1;32m      4\u001b[0m \u001b[0;34m\u001b[0m\u001b[0m\n\u001b[1;32m      5\u001b[0m \u001b[0;31m# Set the time zone\u001b[0m\u001b[0;34m\u001b[0m\u001b[0;34m\u001b[0m\u001b[0m\n",
      "\u001b[0;32m/Library/Frameworks/Python.framework/Versions/3.11/lib/python3.11/site-packages/pandas/core/generic.py\u001b[0m in \u001b[0;36m?\u001b[0;34m(self, name)\u001b[0m\n",
      "\u001b[0;31mAttributeError\u001b[0m: 'Series' object has no attribute 'set_index'"
     ]
    }
   ],
   "source": [
    "\n",
    "# Set the first column as the index\n",
    "mydf.set_index(mydf['Iso8601Time_2'], inplace=True)\n",
    "# mydf.set_index(mydf.columns[0], inplace=True)\n",
    "\n",
    "# Set the time zone\n",
    "timezone = 'America/New_York' \n",
    "mydf = mydf['Iso8601Time_2'].tz_convert(timezone)\n",
    "mydf.head(3)"
   ]
  },
  {
   "cell_type": "code",
   "execution_count": 229,
   "metadata": {},
   "outputs": [
    {
     "name": "stdout",
     "output_type": "stream",
     "text": [
      "Unexpected exception formatting exception. Falling back to standard exception\n"
     ]
    },
    {
     "name": "stderr",
     "output_type": "stream",
     "text": [
      "Traceback (most recent call last):\n",
      "  File \"/Library/Frameworks/Python.framework/Versions/3.11/lib/python3.11/site-packages/pandas/core/indexes/datetimes.py\", line 557, in get_loc\n",
      "    if name is None:\n",
      "                     \n",
      "  File \"/Library/Frameworks/Python.framework/Versions/3.11/lib/python3.11/site-packages/pandas/core/indexes/datetimes.py\", line 513, in _parse_with_reso\n",
      "  File \"/Library/Frameworks/Python.framework/Versions/3.11/lib/python3.11/site-packages/pandas/core/indexes/datetimelike.py\", line 267, in _parse_with_reso\n",
      "    if len(self) and (\n",
      "                   ^^^^\n",
      "  File \"pandas/_libs/tslibs/parsing.pyx\", line 435, in pandas._libs.tslibs.parsing.parse_datetime_string_with_reso\n",
      "  File \"pandas/_libs/tslibs/parsing.pyx\", line 658, in pandas._libs.tslibs.parsing.dateutil_parse\n",
      "pandas._libs.tslibs.parsing.DateParseError: Unknown datetime string format, unable to parse: Iso8601Time_2\n",
      "\n",
      "The above exception was the direct cause of the following exception:\n",
      "\n",
      "Traceback (most recent call last):\n",
      "  File \"/Library/Frameworks/Python.framework/Versions/3.11/lib/python3.11/site-packages/IPython/core/interactiveshell.py\", line 3508, in run_code\n",
      "    exec(code_obj, self.user_global_ns, self.user_ns)\n",
      "  File \"/var/folders/pr/q674sh7s05q_ymjj752fz9qr0000gn/T/ipykernel_6952/2797619162.py\", line 4, in <module>\n",
      "    mydf = mydf['Iso8601Time_2'].tz_convert(timezone)\n",
      "           ~~~~^^^^^^^^^^^^^^^^^\n",
      "  File \"/Library/Frameworks/Python.framework/Versions/3.11/lib/python3.11/site-packages/pandas/core/series.py\", line 1007, in __getitem__\n",
      "    return self._get_with(key)\n",
      "               ^^^^^^^^^^^^^^^^\n",
      "  File \"/Library/Frameworks/Python.framework/Versions/3.11/lib/python3.11/site-packages/pandas/core/series.py\", line 1116, in _get_value\n",
      "    \"`series[an_int] = val` will insert a new key into the \"\n",
      "    ^^^^^^^^^^^^^^^^^^^^^^^^^\n",
      "  File \"/Library/Frameworks/Python.framework/Versions/3.11/lib/python3.11/site-packages/pandas/core/indexes/datetimes.py\", line 559, in get_loc\n",
      "KeyError: 'Iso8601Time_2'\n",
      "\n",
      "During handling of the above exception, another exception occurred:\n",
      "\n",
      "Traceback (most recent call last):\n",
      "  File \"/Library/Frameworks/Python.framework/Versions/3.11/lib/python3.11/site-packages/IPython/core/interactiveshell.py\", line 2105, in showtraceback\n",
      "    stb = self.InteractiveTB.structured_traceback(\n",
      "          ^^^^^^^^^^^^^^^^^^^^^^^^^^^^^^^^^^^^^^^^\n",
      "  File \"/Library/Frameworks/Python.framework/Versions/3.11/lib/python3.11/site-packages/IPython/core/ultratb.py\", line 1396, in structured_traceback\n",
      "    return FormattedTB.structured_traceback(\n",
      "           ^^^^^^^^^^^^^^^^^^^^^^^^^^^^^^^^^\n",
      "  File \"/Library/Frameworks/Python.framework/Versions/3.11/lib/python3.11/site-packages/IPython/core/ultratb.py\", line 1287, in structured_traceback\n",
      "    return VerboseTB.structured_traceback(\n",
      "           ^^^^^^^^^^^^^^^^^^^^^^^^^^^^^^^\n",
      "  File \"/Library/Frameworks/Python.framework/Versions/3.11/lib/python3.11/site-packages/IPython/core/ultratb.py\", line 1140, in structured_traceback\n",
      "    formatted_exception = self.format_exception_as_a_whole(etype, evalue, etb, number_of_lines_of_context,\n",
      "                          ^^^^^^^^^^^^^^^^^^^^^^^^^^^^^^^^^^^^^^^^^^^^^^^^^^^^^^^^^^^^^^^^^^^^^^^^^^^^^^^^\n",
      "  File \"/Library/Frameworks/Python.framework/Versions/3.11/lib/python3.11/site-packages/IPython/core/ultratb.py\", line 1055, in format_exception_as_a_whole\n",
      "    frames.append(self.format_record(record))\n",
      "                  ^^^^^^^^^^^^^^^^^^^^^^^^^^\n",
      "  File \"/Library/Frameworks/Python.framework/Versions/3.11/lib/python3.11/site-packages/IPython/core/ultratb.py\", line 955, in format_record\n",
      "    frame_info.lines, Colors, self.has_colors, lvals\n",
      "    ^^^^^^^^^^^^^^^^\n",
      "  File \"/Library/Frameworks/Python.framework/Versions/3.11/lib/python3.11/site-packages/IPython/core/ultratb.py\", line 778, in lines\n",
      "    return self._sd.lines\n",
      "           ^^^^^^^^^^^^^^\n",
      "  File \"/Library/Frameworks/Python.framework/Versions/3.11/lib/python3.11/site-packages/stack_data/utils.py\", line 144, in cached_property_wrapper\n",
      "  File \"/Library/Frameworks/Python.framework/Versions/3.11/lib/python3.11/site-packages/stack_data/core.py\", line 734, in lines\n",
      "    pieces = self.included_pieces\n",
      "             ^^^^^^^^^^^^^^^^^^^^\n",
      "  File \"/Library/Frameworks/Python.framework/Versions/3.11/lib/python3.11/site-packages/stack_data/utils.py\", line 144, in cached_property_wrapper\n",
      "  File \"/Library/Frameworks/Python.framework/Versions/3.11/lib/python3.11/site-packages/stack_data/core.py\", line 681, in included_pieces\n",
      "    pos = scope_pieces.index(self.executing_piece)\n",
      "                             ^^^^^^^^^^^^^^^^^^^^\n",
      "  File \"/Library/Frameworks/Python.framework/Versions/3.11/lib/python3.11/site-packages/stack_data/utils.py\", line 144, in cached_property_wrapper\n",
      "  File \"/Library/Frameworks/Python.framework/Versions/3.11/lib/python3.11/site-packages/stack_data/core.py\", line 660, in executing_piece\n",
      "    return only(\n",
      "           ^^^^^\n",
      "  File \"/Library/Frameworks/Python.framework/Versions/3.11/lib/python3.11/site-packages/executing/executing.py\", line 190, in only\n",
      "    - asttokens\n",
      "executing.executing.NotOneValueFound: Expected one value, found 0\n"
     ]
    }
   ],
   "source": [
    "# Set the time zone\n",
    "timezone = 'America/New_York' \n",
    "# timezone = 'America/Los_Angeles' \n",
    "mydf = mydf['Iso8601Time_2'].tz_convert(timezone)\n",
    "mydf.head(3)"
   ]
  }
 ],
 "metadata": {
  "kernelspec": {
   "display_name": "Python 3",
   "language": "python",
   "name": "python3"
  },
  "language_info": {
   "codemirror_mode": {
    "name": "ipython",
    "version": 3
   },
   "file_extension": ".py",
   "mimetype": "text/x-python",
   "name": "python",
   "nbconvert_exporter": "python",
   "pygments_lexer": "ipython3",
   "version": "3.11.3"
  }
 },
 "nbformat": 4,
 "nbformat_minor": 2
}
