{
 "cells": [
  {
   "cell_type": "code",
   "execution_count": 1,
   "metadata": {},
   "outputs": [
    {
     "data": {
      "text/plain": [
       "DatetimeIndex(['2019-12-31 23:00:00+00:00', '2020-01-01 22:00:00+00:00'], dtype='datetime64[ns, UTC]', freq=None)"
      ]
     },
     "execution_count": 1,
     "metadata": {},
     "output_type": "execute_result"
    }
   ],
   "source": [
    "# see: https://github.com/pandas-dev/pandas/issues/50887\n",
    "\n",
    "import pandas as pd\n",
    "\n",
    "dates = ['2020-01-01T00:00+01:00', '2020-01-02T00:00+02:00']\n",
    "pd.to_datetime(dates, utc=True)"
   ]
  },
  {
   "cell_type": "code",
   "execution_count": 2,
   "metadata": {},
   "outputs": [
    {
     "name": "stdout",
     "output_type": "stream",
     "text": [
      "          ts:  ['2021-03-27T23:59:59+01:00', '2021-03-28T23:59:59+02:00']\n",
      "      my_utc:  DatetimeIndex(['2021-03-27 22:59:59+00:00', '2021-03-28 21:59:59+00:00'], dtype='datetime64[ns, UTC]', freq=None)\n",
      "my_localized:  DatetimeIndex(['2021-03-27 23:59:59+01:00', '2021-03-28 23:59:59+02:00'], dtype='datetime64[ns, Europe/Vienna]', freq=None)\n",
      "    original:  DatetimeIndex(['2021-03-27 23:59:59+01:00', '2021-03-28 23:59:59+02:00'], dtype='datetime64[ns, Europe/Vienna]', freq=None)\n"
     ]
    }
   ],
   "source": [
    "# see: https://github.com/pandas-dev/pandas/issues/50887\n",
    "ts = ['2021-03-27T23:59:59+01:00', '2021-03-28T23:59:59+02:00']\n",
    "\n",
    "my_utc = pd.to_datetime(ts, utc=True)\n",
    "\n",
    "my_localized = pd.to_datetime(my_utc).tz_convert('Europe/Vienna')\n",
    "\n",
    "# 'original', from https://github.com/pandas-dev/pandas/issues/50887\n",
    "original = pd.to_datetime(ts, utc=True).tz_convert('Europe/Vienna')\n",
    "## Out[74]: DatetimeIndex(['2021-03-27 23:59:59+01:00', '2021-03-28 23:59:59+02:00'], dtype='datetime64[ns, Europe/Vienna]', freq=None)\n",
    "\n",
    "print('          ts: ', ts)\n",
    "print('      my_utc: ', my_utc)\n",
    "print('my_localized: ', my_localized)\n",
    "print('    original: ', original)"
   ]
  },
  {
   "cell_type": "code",
   "execution_count": 14,
   "metadata": {},
   "outputs": [
    {
     "name": "stdout",
     "output_type": "stream",
     "text": [
      "INPUT  America/New_York\n",
      "['2023-11-05T01:59:58.194000-04:00', '2023-11-05T01:59:59.197000-04:00', '2023-11-05T01:00:00.194000-05:00', '2023-11-05T01:00:01.197000-05:00']\n",
      " \n",
      "UTC\n",
      "DatetimeIndex(['2023-11-05 05:59:58.194000+00:00',\n",
      "               '2023-11-05 05:59:59.197000+00:00',\n",
      "               '2023-11-05 06:00:00.194000+00:00',\n",
      "               '2023-11-05 06:00:01.197000+00:00'],\n",
      "              dtype='datetime64[ns, UTC]', freq=None)\n",
      " \n",
      "LOCALIZED America/New_York\n",
      "DatetimeIndex(['2023-11-05 01:59:58.194000-04:00',\n",
      "               '2023-11-05 01:59:59.197000-04:00',\n",
      "               '2023-11-05 01:00:00.194000-05:00',\n",
      "               '2023-11-05 01:00:01.197000-05:00'],\n",
      "              dtype='datetime64[ns, America/New_York]', freq=None)\n",
      " \n"
     ]
    }
   ],
   "source": [
    "# see: https://github.com/pandas-dev/pandas/issues/50887\n",
    "\n",
    "# 👉Time-zone-aware👈 input data can be in either UTC time or in any arbitrary time zone...\n",
    "# TODO: Handle case when input data are *not* tz-aware (Q: Is that ever the case with this project?)\n",
    "\n",
    "## CASE I: Input is in UTC time -- dataset DOES NOT SPAN any DST-ST threshhold(s)\n",
    "# input_tz = 'UTC'\n",
    "# ts = ['2023-11-05 05:59:58.194000+00:00', '2023-11-05 05:59:59.197000+00:00', '2023-11-05 06:00:00.194000+00:00', '2023-11-05 06:00:01.197000+00:00']\n",
    "\n",
    "## CASE II: Input is in a non-UTC time zone -- dataset MAY SPAN DST-ST threshhold(s)\n",
    "input_tz = 'America/New_York'\n",
    "ts = ['2023-11-05T01:59:58.194000-04:00', '2023-11-05T01:59:59.197000-04:00', '2023-11-05T01:00:00.194000-05:00', '2023-11-05T01:00:01.197000-05:00']\n",
    "\n",
    "# Your preferred time zone -- the one in which you want to present your data\n",
    "localized_tz = 'America/New_York'\n",
    "\n",
    "# Covert to UTC\n",
    "# NB: Inefficiency here, as unnecessarily will convert input UTC data to UTC\n",
    "# TODO: Add an 'if' statement to check if input data are already in UTC, and direct flow accordingly\n",
    "my_utc = pd.to_datetime(ts, utc=True)\n",
    "\n",
    "# ....................................... #\n",
    "# ...PERFORM YOUR ANALYSES IN UTC TIME... #\n",
    "# ....................................... #\n",
    "\n",
    "# Covert to your preferred time zone to present results\n",
    "my_localized = pd.to_datetime(my_utc).tz_convert(localized_tz)\n",
    "\n",
    "# 'original', from https://github.com/pandas-dev/pandas/issues/50887\n",
    "# original = pd.to_datetime(ts, utc=True).tz_convert(input_tz)\n",
    "## Out[74]: DatetimeIndex(['2021-03-27 23:59:59+01:00', '2021-03-28 23:59:59+02:00'], dtype='datetime64[ns, Europe/Vienna]', freq=None)\n",
    "\n",
    "print('INPUT ', input_tz)\n",
    "print(ts)\n",
    "print(' ')\n",
    "print('UTC')\n",
    "print(my_utc)\n",
    "print(' ')\n",
    "print('LOCALIZED', localized_tz)\n",
    "print(my_localized)\n",
    "print(' ')\n",
    "# print('original: ', input_tz, ' - ', original)"
   ]
  }
 ],
 "metadata": {
  "kernelspec": {
   "display_name": "Python 3",
   "language": "python",
   "name": "python3"
  },
  "language_info": {
   "codemirror_mode": {
    "name": "ipython",
    "version": 3
   },
   "file_extension": ".py",
   "mimetype": "text/x-python",
   "name": "python",
   "nbconvert_exporter": "python",
   "pygments_lexer": "ipython3",
   "version": "3.11.3"
  }
 },
 "nbformat": 4,
 "nbformat_minor": 2
}
