{
 "cells": [
  {
   "cell_type": "code",
   "execution_count": 21,
   "metadata": {},
   "outputs": [],
   "source": [
    "import pandas as pd;\n",
    "import datetime\n",
    "\n",
    "# print(pd.__version__)"
   ]
  },
  {
   "cell_type": "code",
   "execution_count": 24,
   "metadata": {},
   "outputs": [
    {
     "data": {
      "text/plain": [
       "DatetimeIndex(['2024-03-03', '2024-03-10', '2024-03-17', '2024-03-24',\n",
       "               '2024-03-31'],\n",
       "              dtype='datetime64[ns]', freq='W-SUN')"
      ]
     },
     "execution_count": 24,
     "metadata": {},
     "output_type": "execute_result"
    }
   ],
   "source": [
    "pd.Series(pd.period_range(\"1/1/2011\", freq=\"M\", periods=3))\n",
    "pd.date_range(start='2024-03-03', end='2024-04-01', freq='W')"
   ]
  },
  {
   "cell_type": "code",
   "execution_count": 34,
   "metadata": {},
   "outputs": [
    {
     "data": {
      "text/plain": [
       "DatetimeIndex(['2012-03-06 00:00:00-05:00', '2012-03-07 00:00:00-05:00',\n",
       "               '2012-03-08 00:00:00-05:00', '2012-03-09 00:00:00-05:00',\n",
       "               '2012-03-10 00:00:00-05:00', '2012-03-11 00:00:00-05:00',\n",
       "               '2012-03-12 00:00:00-04:00', '2012-03-13 00:00:00-04:00',\n",
       "               '2012-03-14 00:00:00-04:00', '2012-03-15 00:00:00-04:00',\n",
       "               '2012-03-16 00:00:00-04:00', '2012-03-17 00:00:00-04:00',\n",
       "               '2012-03-18 00:00:00-04:00', '2012-03-19 00:00:00-04:00',\n",
       "               '2012-03-20 00:00:00-04:00'],\n",
       "              dtype='datetime64[ns, America/New_York]', freq='D')"
      ]
     },
     "execution_count": 34,
     "metadata": {},
     "output_type": "execute_result"
    }
   ],
   "source": [
    "rng = pd.date_range(\"3/6/2012 00:00\", periods=15, freq=\"D\", tz='America/New_York')\n",
    "# rng.tz is None\n",
    "rng"
   ]
  },
  {
   "cell_type": "code",
   "execution_count": 38,
   "metadata": {},
   "outputs": [
    {
     "data": {
      "text/plain": [
       "DatetimeIndex(['2011-11-06 00:00:00', '2011-11-06 01:00:00',\n",
       "               '2011-11-06 01:00:00', '2011-11-06 02:00:00'],\n",
       "              dtype='datetime64[ns]', freq=None)"
      ]
     },
     "execution_count": 38,
     "metadata": {},
     "output_type": "execute_result"
    }
   ],
   "source": [
    "rng_hourly = pd.DatetimeIndex([\"11/06/2011 00:00\", \"11/06/2011 01:00\", \"11/06/2011 01:00\", \"11/06/2011 02:00\"])\n",
    "rng_hourly\n",
    "# rng_hourly.tz_localize('US/Eastern')"
   ]
  },
  {
   "cell_type": "code",
   "execution_count": 39,
   "metadata": {},
   "outputs": [
    {
     "data": {
      "text/plain": [
       "DatetimeIndex(['2011-11-06 00:00:00-04:00', '2011-11-06 01:00:00-04:00',\n",
       "               '2011-11-06 01:00:00-05:00', '2011-11-06 02:00:00-05:00'],\n",
       "              dtype='datetime64[ns, US/Eastern]', freq=None)"
      ]
     },
     "execution_count": 39,
     "metadata": {},
     "output_type": "execute_result"
    }
   ],
   "source": [
    "rng_hourly.tz_localize(\"US/Eastern\", ambiguous=\"infer\")"
   ]
  },
  {
   "cell_type": "code",
   "execution_count": 79,
   "metadata": {},
   "outputs": [
    {
     "name": "stdout",
     "output_type": "stream",
     "text": [
      "2024-03-20 18:09:48.931982\n",
      "20-03-2024 18:09\n",
      "US/Eastern :  20-03-2024 18:09\n",
      "US/Central :  20-03-2024 17:09\n",
      "Europe/London :  20-03-2024 22:09\n",
      "Europe/Paris :  20-03-2024 23:09\n",
      "UTC :  20-03-2024 22:09\n"
     ]
    }
   ],
   "source": [
    "# https://www.youtube.com/watch?v=SEc-aezUIaI\n",
    "from pytz import timezone\n",
    "from datetime import datetime\n",
    "\n",
    "time_format = '%d-%m-%Y %H:%M'\n",
    "\n",
    "now = datetime.now()\n",
    "print(now)\n",
    "\n",
    "now = datetime.now().strftime(time_format)\n",
    "print(now)\n",
    "\n",
    "my_tz = ['US/Eastern', 'US/Central', 'Europe/London', 'Europe/Paris', 'UTC']\n",
    "\n",
    "for zone in my_tz:\n",
    "  my_date_time = datetime.now(timezone(zone)).strftime(time_format)\n",
    "  print(zone, ': ', my_date_time)"
   ]
  }
 ],
 "metadata": {
  "kernelspec": {
   "display_name": "Python 3",
   "language": "python",
   "name": "python3"
  },
  "language_info": {
   "codemirror_mode": {
    "name": "ipython",
    "version": 3
   },
   "file_extension": ".py",
   "mimetype": "text/x-python",
   "name": "python",
   "nbconvert_exporter": "python",
   "pygments_lexer": "ipython3",
   "version": "3.11.3"
  }
 },
 "nbformat": 4,
 "nbformat_minor": 2
}
