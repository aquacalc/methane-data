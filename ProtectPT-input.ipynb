{
 "cells": [
  {
   "cell_type": "markdown",
   "metadata": {},
   "source": [
    "**Requirement**: *\"I want a script that can handle a set of data that includes the ST-DST transition, if needed.\"*"
   ]
  },
  {
   "cell_type": "markdown",
   "metadata": {},
   "source": [
    "👉Time-zone-aware👈 input data can be either in UTC time (**CASE I**) or in any arbitrary time zone (**CASE II**).\n",
    "\n",
    "**CASE I**: Input is in UTC time -- dataset DOES NOT SPAN any DST-ST threshold(s), so...\n",
    "  * Perform your analyses in UTC time\n",
    "  * Convert to local tz to present results\n",
    "\n",
    "**CASE II**: Input is in a *non*-UTC time zone -- dataset MAY SPAN DST-ST threshold(s), so...\n",
    "  * Convert to UTC to remove DST-ST mishigas\n",
    "  * Perform your analyses in UTC time\n",
    "  * Convert back to local tz to present results\n",
    "\n",
    "**TODO**: Handle case when input data are *not* tz-aware. (**Q**: *Is that ever the case for this project?*)\n",
    "\n",
    "--Nick/ (__aquacalc@gmail.com__)"
   ]
  },
  {
   "cell_type": "code",
   "execution_count": 27,
   "metadata": {},
   "outputs": [],
   "source": [
    "# My environment: \n",
    "#  Python 3.11.3  -- pandas 2.2.1 \n",
    "#  VS Code 1.87.2 -- MacOS 12.7.4\n",
    "import pandas as pd"
   ]
  },
  {
   "cell_type": "markdown",
   "metadata": {},
   "source": [
    "For this requirement, we only need to test a few dates, with those in **CASE II** straddling a seasonal time-zone change.\n",
    "\n",
    " **NB**: To run either **CASE I** (UTC input) or **CASE II** (*non*-UTC input), in the next code block, un-comment the appropriate\n",
    "\n",
    "  * `input_tz` (a string, either  'UTC' or 'America/New_York')\n",
    "\n",
    "  and \n",
    "\n",
    "  * `ts` (an array/list which, for the *non*-UTC case, annoyingly straddles a time-zone change. For 'America/New_York', the autumn tz offset switches from -04:00 to -05:00)"
   ]
  },
  {
   "cell_type": "code",
   "execution_count": 32,
   "metadata": {},
   "outputs": [
    {
     "name": "stdout",
     "output_type": "stream",
     "text": [
      "INPUT  America/New_York\n",
      "['2023-11-05T01:59:58.194000-04:00', '2023-11-05T01:59:59.197000-04:00', '2023-11-05T01:00:00.194000-05:00', '2023-11-05T01:00:01.197000-05:00']\n",
      " \n",
      "UTC\n",
      "DatetimeIndex(['2023-11-05 05:59:58.194000+00:00',\n",
      "               '2023-11-05 05:59:59.197000+00:00',\n",
      "               '2023-11-05 06:00:00.194000+00:00',\n",
      "               '2023-11-05 06:00:01.197000+00:00'],\n",
      "              dtype='datetime64[ns, UTC]', freq=None)\n",
      " \n",
      "--👉 Your analyses performed here 👈--\n",
      " \n",
      "LOCALIZED America/New_York\n",
      "DatetimeIndex(['2023-11-05 01:59:58.194000-04:00',\n",
      "               '2023-11-05 01:59:59.197000-04:00',\n",
      "               '2023-11-05 01:00:00.194000-05:00',\n",
      "               '2023-11-05 01:00:01.197000-05:00'],\n",
      "              dtype='datetime64[ns, America/New_York]', freq=None)\n"
     ]
    }
   ],
   "source": [
    "## CASE I: Input is in UTC time -- dataset DOES NOT SPAN any DST-ST threshold(s)\n",
    "## --------------------------------------------- //\n",
    "## // To run CASE I...\n",
    "## //  1. UNCOMMENT the next input_tz and ts for CASE I   //\n",
    "## //  2. COMMENT OUT input_tz and ts of CASE II (below CASE II comments) //\n",
    "# input_tz = 'UTC'\n",
    "# ts = ['2023-11-05 05:59:58.194000+00:00', '2023-11-05 05:59:59.197000+00:00', '2023-11-05 06:00:00.194000+00:00', '2023-11-05 06:00:01.197000+00:00']\n",
    "## --------------------------------------------- //\n",
    "\n",
    "## CASE II: Input is in a non-UTC time zone -- dataset MAY SPAN DST-ST threhhold(s)\n",
    "## --------------------------------------------- //\n",
    "## // To run CASE II...\n",
    "## //  1. UNCOMMENT the next input_tz and ts for CASE II   //\n",
    "## //  2. COMMENT OUT input_tz and ts of CASE I (above) //\n",
    "input_tz = 'America/New_York'\n",
    "ts = ['2023-11-05T01:59:58.194000-04:00', '2023-11-05T01:59:59.197000-04:00', '2023-11-05T01:00:00.194000-05:00', '2023-11-05T01:00:01.197000-05:00']\n",
    "## --------------------------------------------- //\n",
    "\n",
    "# Your preferred time zone -- the one in which you want to present your data\n",
    "localized_tz = 'America/New_York'\n",
    "\n",
    "# Covert to UTC\n",
    "my_utc = pd.to_datetime(ts, utc=True)\n",
    "## NB: Inefficiency here, as unnecessarily converts input UTC data to...UTC!\n",
    "## TODO: Add 'if' statement to check if input data already in UTC, \n",
    "##       then direct flow accordingly\n",
    "## if input_tz != 'UTC':\n",
    "##   my_utc = pd.to_datetime(ts, utc=True)\n",
    "\n",
    "# .................................................. #\n",
    "# .................................................. #\n",
    "# ... 👉👉 PERFORM YOUR ANALYSES IN UTC TIME 👈👈 ... #\n",
    "# .................................................. #\n",
    "# .................................................. #\n",
    "\n",
    "# Covert to your local/preferred time zone to present your results\n",
    "# my_localized = pd.to_datetime(my_utc).tz_convert(localized_tz)\n",
    "my_localized = my_utc.tz_convert(localized_tz)\n",
    "\n",
    "print('INPUT ', input_tz)\n",
    "print(ts)\n",
    "print(' ')\n",
    "print('UTC')\n",
    "print(my_utc)\n",
    "print(' ')\n",
    "print('--👉 Your analyses performed here 👈--')\n",
    "print(' ')\n",
    "print('LOCALIZED', localized_tz)\n",
    "print(my_localized)"
   ]
  }
 ],
 "metadata": {
  "kernelspec": {
   "display_name": "Python 3",
   "language": "python",
   "name": "python3"
  },
  "language_info": {
   "codemirror_mode": {
    "name": "ipython",
    "version": 3
   },
   "file_extension": ".py",
   "mimetype": "text/x-python",
   "name": "python",
   "nbconvert_exporter": "python",
   "pygments_lexer": "ipython3",
   "version": "3.undefined.undefined"
  }
 },
 "nbformat": 4,
 "nbformat_minor": 2
}
